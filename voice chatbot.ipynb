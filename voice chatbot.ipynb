{
 "cells": [
  {
   "cell_type": "code",
   "execution_count": 1,
   "id": "4195772c",
   "metadata": {},
   "outputs": [
    {
     "name": "stdout",
     "output_type": "stream",
     "text": [
      "Requirement already satisfied: SpeechRecognition in c:\\users\\dell\\anaconda3\\lib\\site-packages (3.8.1)\n",
      "Requirement already satisfied: gTTs in c:\\users\\dell\\anaconda3\\lib\\site-packages (2.2.4)\n",
      "Requirement already satisfied: click in c:\\users\\dell\\anaconda3\\lib\\site-packages (from gTTs) (8.0.4)\n",
      "Requirement already satisfied: six in c:\\users\\dell\\anaconda3\\lib\\site-packages (from gTTs) (1.16.0)\n",
      "Requirement already satisfied: requests in c:\\users\\dell\\anaconda3\\lib\\site-packages (from gTTs) (2.27.1)\n",
      "Requirement already satisfied: colorama in c:\\users\\dell\\anaconda3\\lib\\site-packages (from click->gTTs) (0.4.4)\n",
      "Requirement already satisfied: idna<4,>=2.5 in c:\\users\\dell\\anaconda3\\lib\\site-packages (from requests->gTTs) (3.3)\n",
      "Requirement already satisfied: urllib3<1.27,>=1.21.1 in c:\\users\\dell\\anaconda3\\lib\\site-packages (from requests->gTTs) (1.26.9)\n",
      "Requirement already satisfied: charset-normalizer~=2.0.0 in c:\\users\\dell\\anaconda3\\lib\\site-packages (from requests->gTTs) (2.0.4)\n",
      "Requirement already satisfied: certifi>=2017.4.17 in c:\\users\\dell\\anaconda3\\lib\\site-packages (from requests->gTTs) (2021.10.8)\n",
      "Requirement already satisfied: wikipedia in c:\\users\\dell\\anaconda3\\lib\\site-packages (1.4.0)\n",
      "Requirement already satisfied: requests<3.0.0,>=2.0.0 in c:\\users\\dell\\anaconda3\\lib\\site-packages (from wikipedia) (2.27.1)\n",
      "Requirement already satisfied: beautifulsoup4 in c:\\users\\dell\\anaconda3\\lib\\site-packages (from wikipedia) (4.11.1)\n",
      "Requirement already satisfied: certifi>=2017.4.17 in c:\\users\\dell\\anaconda3\\lib\\site-packages (from requests<3.0.0,>=2.0.0->wikipedia) (2021.10.8)\n",
      "Requirement already satisfied: urllib3<1.27,>=1.21.1 in c:\\users\\dell\\anaconda3\\lib\\site-packages (from requests<3.0.0,>=2.0.0->wikipedia) (1.26.9)\n",
      "Requirement already satisfied: charset-normalizer~=2.0.0 in c:\\users\\dell\\anaconda3\\lib\\site-packages (from requests<3.0.0,>=2.0.0->wikipedia) (2.0.4)\n",
      "Requirement already satisfied: idna<4,>=2.5 in c:\\users\\dell\\anaconda3\\lib\\site-packages (from requests<3.0.0,>=2.0.0->wikipedia) (3.3)\n",
      "Requirement already satisfied: soupsieve>1.2 in c:\\users\\dell\\anaconda3\\lib\\site-packages (from beautifulsoup4->wikipedia) (2.3.1)\n",
      "Requirement already satisfied: pyaudio in c:\\users\\dell\\anaconda3\\lib\\site-packages (0.2.12)\n"
     ]
    }
   ],
   "source": [
    "import numpy as np \n",
    "# for calculation in model\n",
    "!pip install SpeechRecognition  \n",
    "# convert text to speach \n",
    "!pip install gTTs  \n",
    "# google text to speech and speak what is written\n",
    "import speech_recognition as sr\n",
    "! pip install wikipedia\n",
    "# for wikipedia searches\n",
    "!pip install pyaudio\n",
    "\n"
   ]
  },
  {
   "cell_type": "code",
   "execution_count": 2,
   "id": "21be17fd",
   "metadata": {},
   "outputs": [
    {
     "name": "stdout",
     "output_type": "stream",
     "text": [
      "Requirement already satisfied: pyttsx3 in c:\\users\\dell\\anaconda3\\lib\\site-packages (2.90)\n",
      "Requirement already satisfied: pywin32 in c:\\users\\dell\\anaconda3\\lib\\site-packages (from pyttsx3) (302)\n",
      "Requirement already satisfied: pypiwin32 in c:\\users\\dell\\anaconda3\\lib\\site-packages (from pyttsx3) (223)\n",
      "Requirement already satisfied: comtypes in c:\\users\\dell\\anaconda3\\lib\\site-packages (from pyttsx3) (1.1.10)\n"
     ]
    }
   ],
   "source": [
    "!pip install pyttsx3"
   ]
  },
  {
   "cell_type": "code",
   "execution_count": 3,
   "id": "d1d00ade",
   "metadata": {},
   "outputs": [],
   "source": [
    "import pyttsx3\n",
    "# A python library that will help us to convert text to speech.\n",
    "engine = pyttsx3.init('sapi5')\n",
    "\n",
    "voices= engine.getProperty('voices') #getting details of current voice\n",
    "# The getProperty() function of the pyttsx3 package takes a string as a parameter and returns an object matching the string.\n",
    "engine.setProperty('voice', voices[1].id)\n",
    "# voice is the String identifier of the active voice\n"
   ]
  },
  {
   "cell_type": "code",
   "execution_count": 4,
   "id": "0c485f36",
   "metadata": {},
   "outputs": [],
   "source": [
    "# This function will take audio as an argument, and then it will pronounce it.\n",
    "def speak(audio):\n",
    "    engine.say(audio)\n",
    "    engine.runAndWait()\n",
    "\n"
   ]
  },
  {
   "cell_type": "code",
   "execution_count": 10,
   "id": "8a2e2b83",
   "metadata": {},
   "outputs": [],
   "source": [
    "    import cv2\n",
    "\n",
    "\n",
    "    cap = cv2.VideoCapture(\"videooo.mp4\")\n",
    "    while(cap.isOpened()):\n",
    "        ret,frame = cap.read()\n",
    "        frame = cv2.resize(frame,(1200,700))\n",
    "        cv2.imshow(\"video\",frame)\n",
    "        if cv2.waitKey(10) & 0xFF == ord('q'):\n",
    "            break\n",
    "cap.release()\n",
    "cv2.destroyAllWindows()\n",
    "    "
   ]
  },
  {
   "cell_type": "markdown",
   "id": "e21ffe70",
   "metadata": {},
   "source": [
    " runAnd Wait - This function keeps track when the engine starts converting text to speech and waits for that much time, and do not allow the engine to close. If we don’t write this code, it may happen that the engine might not work properly as the processes will not be synchronized."
   ]
  },
  {
   "cell_type": "code",
   "execution_count": null,
   "id": "a8c6b25b",
   "metadata": {},
   "outputs": [],
   "source": [
    "\n",
    "def usercommand():\n",
    "    \n",
    "    r = sr.Recognizer() # recognises the audio user is speaking\n",
    "    with sr.Microphone() as mic:  # use the default microphone as the audio source\n",
    "        print(\"Listening.....\")\n",
    "        audio = r.listen(mic)# listen for the first phrase and extract it into audio data\n",
    "        r.pause_threshold = 1\n",
    "        \n",
    "    try:\n",
    "        output= r.recognize_google(audio) #Using google for voice recognition.\n",
    "        print(f\"You said :{output}\\n\") # what we said will be printed\n",
    "       \n",
    "        \n",
    "    except: \n",
    "        speak(\"Sorry I don't understand say it again please\")\n",
    "        return \"None\"\n",
    "    return output\n",
    "    "
   ]
  },
  {
   "cell_type": "code",
   "execution_count": null,
   "id": "bfdbac16",
   "metadata": {},
   "outputs": [],
   "source": [
    "import datetime\n",
    "import random \n",
    "def Wish():\n",
    "    \n",
    "    time = int(datetime.datetime.now().hour)\n",
    "    \n",
    "# we have stored the current hour or time integer value into a variable\n",
    "    if time>=0 and time<12:\n",
    "        speak(\"Good Morning!\")\n",
    "    elif time>=12 and time<18:\n",
    "        speak(\"Good Afternoon!\")\n",
    "    else:\n",
    "        speak(\"Good Evening!\")\n",
    "        \n",
    "    speak(\"Mai hu Doaramon How can I help you\")\n"
   ]
  },
  {
   "cell_type": "markdown",
   "id": "b278f27b",
   "metadata": {},
   "source": [
    " In the below code we first opened our music directory and then listed all the songs present in the directory with the os module's help. With the help of os.startfile, you can play any song of your choice. I am playing the first song in the directory."
   ]
  },
  {
   "cell_type": "code",
   "execution_count": null,
   "id": "c5915fce",
   "metadata": {},
   "outputs": [],
   "source": [
    "# we have used an if statement to check whether Wikipedia is in the user's search query or not. If Wikipedia is found \n",
    "# in the user's search query, then two sentences from the summary of the\n",
    "# Wikipedia page will be converted to speech with the speak function's help.\n",
    "import wikipedia\n",
    "import webbrowser\n",
    "import pyaudio\n",
    "import os\n",
    "import sys\n",
    "Wish()\n",
    "video()\n",
    "\n",
    "while 1 :\n",
    "   \n",
    "    greet_output = [\"Hii\", \"Hello\", \"whatsup\",\"Hey\" ]\n",
    "    \n",
    "    \n",
    "    output = usercommand().lower()\n",
    "    \n",
    "   \n",
    "    if 'wikipedia' in output:\n",
    "        speak(\"Searching.......\")\n",
    "        output = output.replace(\"wikipedia\",\"\")\n",
    "        results = wikipedia.summary(output,sentences = 2)\n",
    "        speak(\"According to Wikipedia \\n\")\n",
    "        print(results)\n",
    "        speak(results)\n",
    "    elif 'open youtube' in output:\n",
    "        webbrowser.open(\"youtube.com\")\n",
    "    elif 'open google' in output:\n",
    "        webbrowser.open(\"google.com\")\n",
    "    elif 'play music' in output:\n",
    "        music_path = r\"C:\\Users\\Dell\\Downloads\\songs\"\n",
    "        songs = os.listdir(music_path)\n",
    "           \n",
    "        os.startfile(os.path.join(music_path, songs[0]))\n",
    "    elif 'hello' in output:\n",
    "        speak(random.choice(greet_output))\n",
    "\n",
    "    \n",
    "    \n",
    "    \n",
    "   \n",
    "   \n",
    "    \n",
    "    elif \"bye\" in output:\n",
    "        speak(\"Thank you Nice talking with you\")\n",
    "#         exit()\n",
    "        break\n",
    "        "
   ]
  },
  {
   "cell_type": "code",
   "execution_count": null,
   "id": "41c4488a",
   "metadata": {
    "scrolled": true
   },
   "outputs": [],
   "source": []
  },
  {
   "cell_type": "code",
   "execution_count": null,
   "id": "332aafb6",
   "metadata": {},
   "outputs": [],
   "source": []
  }
 ],
 "metadata": {
  "kernelspec": {
   "display_name": "Python 3 (ipykernel)",
   "language": "python",
   "name": "python3"
  },
  "language_info": {
   "codemirror_mode": {
    "name": "ipython",
    "version": 3
   },
   "file_extension": ".py",
   "mimetype": "text/x-python",
   "name": "python",
   "nbconvert_exporter": "python",
   "pygments_lexer": "ipython3",
   "version": "3.9.12"
  }
 },
 "nbformat": 4,
 "nbformat_minor": 5
}
